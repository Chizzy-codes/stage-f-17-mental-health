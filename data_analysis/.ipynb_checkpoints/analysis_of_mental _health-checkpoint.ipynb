{
 "cells": [
  {
   "cell_type": "markdown",
   "metadata": {},
   "source": [
    "## Analysis that predict treatement for mental health condition in tech workplace\n",
    "\n",
    "Amazinggrace Ogechukwu Oduye, 2020.\n",
    "\n",
    "## Excutive summary\n",
    "\n",
    "This document presents the analysis on mental health in the tech workplace, which is adapted from Open Source Mental Illness (OSMI), using survey data from years 2014, 2016, 2017, 2018 and 2019. Each survey measures and attitudes towards mental health and frequency of mental health disorders in the tech workplace.\n",
    "\n",
    "The analysis was inspired by some questions worth exploring:\n",
    "* How does the frequency of mental health illness and attitudes towards mental health vary by geographic location?. \n",
    "* What are the strongest predictors of mental health illness or certain attitudes towards mental health in the workplace?.\n",
    "\n",
    "The analysis is based on 1259 observations from 27 feature survey questions on mental health in tech companies.\n",
    "\n",
    "The goal is to predict wether an employee would sougth for a mental health condition or not in the cause of work in Tech company.\n",
    "\n",
    "\n"
   ]
  },
  {
   "cell_type": "markdown",
   "metadata": {},
   "source": [
    "## Data exploration\n",
    "\n",
    "There are 27 features in this dataset. Each row in the dataset represents responds to the feature question."
   ]
  },
  {
   "cell_type": "markdown",
   "metadata": {},
   "source": [
    "## Numeric value\n",
    "\n",
    "* Timestamp indicate date and time the respondent was surved\n",
    "* Age indicates the age of the worker surveyed"
   ]
  },
  {
   "cell_type": "markdown",
   "metadata": {},
   "source": [
    "## categorical Reationship\n",
    "\n",
    "In addition to the numeric values, the data set includes categorical features:\n",
    "* Country-A categorical variable that indicates the different country of the worker surveyed\n",
    "* Gender-A categorical variable that indicates the sex of the worker surveyed\n",
    "* state-A categorical variable that indicates If you live in the United States, which state or territory do you live in\n",
    "* self_employed-A categorical variable that indicates if a worker surveyed is self-employed\n",
    "* family_history-A categorical variable that indicates if a worker surveyed, have a family history of mental illness\n",
    "* treatment-A categorical variable that indicates if a worker surveyed, have you sought treatment for a mental health condition\n",
    "* work_interfere-A categorical variable that indicates if a worker surveyed, If with mental health condition, do you feel that it interferes with your work\n",
    "* no_employees: How many employees does your company or organization have\n",
    "* remote_work-A categorical variable that indicates if a worker surveyed,do work remotely (outside of an office) at least 50% of the time\n",
    "* tech_company-A categorical variable that indicates if your employer primarily a tech company/organization\n",
    "* benefits-A categorical variable that indicates if employer provide mental health benefits\n",
    "* care_options-A categorical variable that indicates if a worker surveyed, do know the options for mental health care your employer provides\n",
    "* wellness_program-A categorical variable that indicates if  employer ever discussed mental health as part of an employee wellness program\n",
    "* seek_help-A categorical variable that indicates if a worker surveyed employer provide resources to learn more about mental health issues and how to seek help\n",
    "* anonymity-A categorical variable that indicates if anonymity of worker surveyed, is protected if you choose to take advantage of mental health or substance abuse treatment resources\n",
    "* leave-A categorical variable that indicate how easy is it for worker surveyed to take medical leave for a mental health condition\n",
    "* mental_health_ consequence-A categorical variable that shows the worker surveyed, who think that discussing a mental health issue with your employer would have negative consequences\n",
    "* physical_health_consequence-A categorical variable that indicates if worker surveyed do think that discussing a physical health issue with your employer would have negative consequences\n",
    "* coworkers-A categorical variable that shows the worker surveyed, who would be willing to discuss a mental health issue with your coworkers\n",
    "* supervisor-A categorical variable that indicates if a worker surveyed would be willing to discuss a mental health issue with your direct supervisor(s)\n",
    "* mental_health_interview-A categorical variable that shows the worker surveyed, who would you bring up a mental health issue with a potential employer in an interview \n",
    "* physical_healthinter_view-A categorical variable that indicates if a worker surveyed would bring up a physical health issue with a potential employer in an interview\n",
    "* mental_vs_physical-A categorical variable that shows if worker surveyed, who feel that your employer takes mental health as seriously as physical health.\n",
    "* observed_consequence-A categorical variable that indicates if a worker surveyed have heard of or observed negative consequences for coworkers with mental health conditions in your workplace"
   ]
  },
  {
   "cell_type": "markdown",
   "metadata": {},
   "source": [
    "#### Age\n",
    "\n",
    "Indicates the age of respondent of the survey question. it has outliers that was replace with the Median age since the maximum and Minimum values are are outliers, so median was the best fit. the survey shows that:\n",
    "1. 25-29 age range dominate most of the workers \n",
    "1. 30-45 age range are not very few\n",
    "1. 46-65 age range are few\n",
    "\n",
    "\n",
    "\n",
    "\n",
    "<img src=\"Agebox.png\">\n",
    "\n",
    "<img src=\"Ageviolin.png\">"
   ]
  },
  {
   "cell_type": "markdown",
   "metadata": {},
   "source": [
    "#### Gender\n",
    "\n",
    "Indicates the sex of respondent of the survey question. it was categorize into three:\n",
    "1. Male category with 79.03% occurance \n",
    "1. Female category with 19.94% occurance\n",
    "1. Others 1.03%\n",
    "\n",
    "\n",
    "\n",
    "\n",
    "<img src=\"gender.png\">"
   ]
  },
  {
   "cell_type": "markdown",
   "metadata": {},
   "source": [
    "#### Country\n",
    "\n",
    "Indicates the different country of the worker surveyed. The report shows that most workers are fom United State, the top five countries are:\n",
    "1. United States 59.65% and value count of 751\n",
    "1. United Kingdom 14.69% and value count of 185\n",
    "1. Canada 5.72% and value count of 72\n",
    "1. Germany 3.57% and value count of 45\n",
    "1. Ireland and Netherland 2.14% and value count of 27\n",
    "\n",
    "\n",
    "\n",
    "\n",
    "<img src=\"Country.png\">"
   ]
  },
  {
   "cell_type": "markdown",
   "metadata": {},
   "source": [
    "#### state\n",
    "\n",
    "It indicates If you live in the United States, which state or territory do you live in. it has 485 unique values, 515 missing values that is about 40.5% respondent did not indicate their teritory while the top five state is \n",
    "1. CA-California with 18.55% respondent\n",
    "1. WA-Washington with 9.41% respondent\n",
    "1. NA-New York with 7.66% respondent\n",
    "1. TN-Tennessee with 6.04% respondent\n",
    "1. TX- Texas with 5.91% respondennt\n",
    "\n",
    "\n",
    "<img src=\"state.png\">"
   ]
  },
  {
   "cell_type": "markdown",
   "metadata": {},
   "source": [
    "#### self_employed\n",
    "It indicates the number of surveyed tech workers who Are self-employed or not, it has 2 unique values and 18 missing values. The survey  report shows that:\n",
    "1. No 88.24% repondent are not self-employed and value count of 1095\n",
    "1. Yes 11.76% repondent are self-employed and value count of 146\n",
    "\n",
    "\n",
    "\n",
    "\n",
    "<img src=\"self_employed.png\">"
   ]
  },
  {
   "cell_type": "markdown",
   "metadata": {},
   "source": [
    "#### family_history\n",
    "\n",
    "Indicates if respondent have a family history of mental illness, it has two unique values with no missing value. The frequency of occurance shows that:\n",
    "1. No  respondent is 60.92%\n",
    "1. Yes respondent is 39.08%\n",
    "\n",
    "\n",
    "<img src=\"family_history.png\">"
   ]
  },
  {
   "cell_type": "markdown",
   "metadata": {},
   "source": [
    "#### treatment\n",
    "\n",
    "Indicates if respondent have sought treatment for a mental health condition, it has two unique values with no missing value. The frequency of occurance shows that:\n",
    "1. Yes  respondent is 50.60% and value count of 637\n",
    "1. No respondent is 50.60% and value count of 622\n",
    "\n",
    "\n",
    "\n",
    "\n",
    "\n",
    "<img src=\"treatment.png\">"
   ]
  },
  {
   "cell_type": "markdown",
   "metadata": {},
   "source": [
    "#### work_interfere\n",
    "\n",
    "indicates If a worker with mental health condition, do you feel that it interferes with your work it has four unique values and 264 missing values. the survey report shows that:\n",
    "1. Sometimes 46.73% of tech workers thicks it interfers with work.\n",
    "1. Never 21.41% of respondent thinks it doesnot.\n",
    "1. Rarely 17.39% of tech workers thicks it interfers with work.\n",
    "1. Often 14.47% of tech workers thicks it interfers with work.\n",
    "\n",
    "\n",
    "\n",
    "\n",
    "<img src=\"work_interferance.png\">"
   ]
  },
  {
   "cell_type": "markdown",
   "metadata": {},
   "source": [
    "#### no_employees\n",
    "\n",
    "Indicates the range of employees in tech company or organization. it has 6 unique values and no missing values. the survey report shows that most company do have:\n",
    "1. 6-25 respondent is 23.03% and value count of 290\n",
    "1. 26-100 respondent is 22.95% and value count of 289\n",
    "1. More than 1000 respondent is 22.4% and value count of 282\n",
    "1. 100-500 respondent is 13.98% and value count of 176\n",
    "1. 1-5 respondent is 12.87% and value count of 162\n",
    "1. 500-1000 respondent is 4.77% and value count of 60\n",
    "\n",
    "\n",
    "\n",
    "\n",
    "<img src=\"no_employees.png\">"
   ]
  },
  {
   "cell_type": "markdown",
   "metadata": {},
   "source": [
    "#### remote_work\n",
    "\n",
    "indicates number of workers that do work remotely (outside of an office) at least 50% of the time. it ha two unique values with no missing value. The survey shows that:\n",
    "1. No 70.14% donot work remotely\n",
    "1. Yes 29.86% work remotely\n",
    "\n",
    "\n",
    "\n",
    "\n",
    "<img src=\"remote_work.png\">"
   ]
  },
  {
   "cell_type": "markdown",
   "metadata": {},
   "source": [
    "#### tech_company\n",
    "\n",
    "indicates if respondent employer primarily a tech company/organization. it has two unique values with no missing value. The survey shows that:\n",
    "1. Yes 81.89% respondent and value count of 1031 is Tech company\n",
    "1. No 18.11% respondent and value count of 228 is not Tech company\n",
    "\n",
    "\n",
    "\n",
    "\n",
    "\n",
    "<img src=\"tech_company.png\">"
   ]
  },
  {
   "cell_type": "markdown",
   "metadata": {},
   "source": [
    "#### benefits\n",
    "\n",
    "indicates if employer provide mental health benefits,it has three unque value with no missing value. the survey shows that:\n",
    "1. Yes 37.89% respondent are provide with mental health benefits \n",
    "1. Don't know 32.41% respondent are not aware of mental health benefits\n",
    "1. No 29.7% respondent are not provided with mental health benefits\n",
    "\n",
    "\n",
    "\n",
    "\n",
    "\n",
    "\n",
    "<img src=\"benefits.png\">"
   ]
  },
  {
   "cell_type": "markdown",
   "metadata": {},
   "source": [
    "#### care_options\n",
    "\n",
    "indicates if employee know the options for mental health care your employer provides,it has three unque value with no missing value. the survey shows that:\n",
    "1. No 39.79% respondent and value count of 501 donot know the options for mental health care employer provides\n",
    "1. Yes 35.27% respondent and value count of 444 know the options for mental health care employer provides        \n",
    "1. Not sure 24.94% respondent and value count of 314 are not sure the options for mental health care employer provides \n",
    "\n",
    "\n",
    "\n",
    "\n",
    "\n",
    "\n",
    "<img src=\"care_options.png\">"
   ]
  },
  {
   "cell_type": "markdown",
   "metadata": {},
   "source": [
    "####  wellness_program \n",
    "\n",
    "indicates if employer ever discussed mental health as part of an employee wellness program. It contains three unique values and no missing values the survey shows that:\n",
    "1. No 66.88% respondent empolyers donot discuss mental health as part of an employee wellness program. \n",
    "1. Yes 18.19% respondent empolyers discuss mental health as part of an employee wellness program\n",
    "1. Don't know 14.93% are not sure if employers do or not.\n",
    "\n",
    "\n",
    "\n",
    "\n",
    "\n",
    "<img src=\"wellness_program.png\">"
   ]
  },
  {
   "cell_type": "markdown",
   "metadata": {},
   "source": [
    "####  seek_help \n",
    "\n",
    "indicates if employer provide resources to learn more about mental health issues and how to seek help. It contains three unique values and no missing values. the survey shows that:\n",
    "1. No 51.31% and value count of 646 respondent employer donot provide resources to learn more about mental health issues and how to seek help         \n",
    "1. Don't know 51.31% and value count of 363 respondent are not aware if employer donot provide resources to learn more about mental health issues and how to seek help       \n",
    "1. Yes 51.31% and value count of 250 respondent employer provide resources to learn more about mental health issues and how to seek help            \n",
    "\n",
    "\n",
    "\n",
    "<img src=\"seek_help.png\">"
   ]
  },
  {
   "cell_type": "markdown",
   "metadata": {},
   "source": [
    "####  anonymity\n",
    "\n",
    "indicates if anonymity of worker surveyed, is protected if you choose to take advantage of mental health. It contains three unique values and no missing values the survey shows that:\n",
    "1. Don't know 65.05% respondent are not sure if their anonymity is protected. \n",
    "1. Yes 29.79% respondent think their anonymity is protected. \n",
    "1. No 5.16% respondent think their anonymity is not protected.\n",
    "\n",
    "           \n",
    "\n",
    "\n",
    "<img src=\"anonymity.png\">"
   ]
  },
  {
   "cell_type": "markdown",
   "metadata": {},
   "source": [
    "####  leave\n",
    "\n",
    "indicates how easy is it for a worker to take medical leave for a mental health condition in tech company. It contains 5 unique values and no missing values the survey shows that:\n",
    "1. Don't know 44.72% respondent and value count of 563\n",
    "1. Somewhat easy 21.13% respondent and value count of 266\n",
    "1. Very easy 44.72% respondent and value count of 206\n",
    "1. Somewhat difficult 10.01% respondent and value count of 126\n",
    "1. Very difficult 7.78% respondent and value count of 98\n",
    "\n",
    "           \n",
    "\n",
    "\n",
    "<img src=\"leave.png\">"
   ]
  },
  {
   "cell_type": "markdown",
   "metadata": {},
   "source": [
    "####  mental_health_ consequence\n",
    "\n",
    "indicates employees who think that discussing a mental health issue with your employer would have negative consequences. It contains three unique values and no missing values the survey shows that:\n",
    "1. No 38.92% respondent are sure that discussing a mental health issue with your employer would have no negative consequences. \n",
    "1. Maybe 37.89% respondent think it may or may not have negative consequences. \n",
    "1. Yes 23.19% respondent are sure that discussing a mental health issue with your employer would have negative consequences..\n",
    "\n",
    "           \n",
    "\n",
    "\n",
    "<img src=\"mental_health_consequence.png\">"
   ]
  },
  {
   "cell_type": "markdown",
   "metadata": {},
   "source": [
    "####  phys_health_consequence\n",
    "\n",
    "indicates employees who think that discussing physical health issue  with your employer would have negative consequences. It contains three unique values and no missing values the survey shows that:\n",
    "1. No 73.47% respondent and value count of 925. \n",
    "1. Maybe 21.68% respondent and value count of 273.\n",
    "1. Yes 4.85% respondent and value count of 61\n",
    "           \n",
    "\n",
    "\n",
    "<img src=\"phys_health_consequence.png\">"
   ]
  },
  {
   "cell_type": "markdown",
   "metadata": {},
   "source": [
    "####  coworkers\n",
    "\n",
    "indicates the number of employees who Would  be willing to discuss a mental health issue with coworkers. It contains three unique values and no missing values the survey shows that:\n",
    "1. Some of them 61.48% respondent Would be willing to discuss a mental health issue with some coworkers. \n",
    "1. No 20.65% respondent Would not be willing to discuss a mental health issue with coworkers. \n",
    "1. Yes 17.87% respondent Would be willing to discuss a mental health issue with coworkers.\n",
    "\n",
    "           \n",
    "\n",
    "\n",
    "\n",
    "\n",
    "<img src=\"coworkers.png\">"
   ]
  },
  {
   "cell_type": "markdown",
   "metadata": {},
   "source": [
    "####  supervisor\n",
    "\n",
    "indicates the number of employees who would be willing to discuss a mental health issue with your direct supervisor. It contains three unique values and no missing values the survey shows that:\n",
    "1. Yes 73.47% respondent and value count of 516 \n",
    "1. No 31.22% respondent and value count of 393\n",
    "1. Some of the 27.8% respondent and value count of 350          \n",
    "\n",
    "\n",
    "\n",
    "\n",
    "\n",
    "<img src=\"supervisor.png\">"
   ]
  },
  {
   "cell_type": "markdown",
   "metadata": {},
   "source": [
    "####  mental_health_interview\n",
    "\n",
    "indicates the number of employees who would bring up a mental health issue with a potential employer in an interview. It contains three unique values and no missing values the survey shows that:\n",
    "1. No 80.06% respondent would not bring up a mental health issue with a potential employer in an interview. \n",
    "1. Maybe 16.44% respondent may or maynot bring up a mental health issue with a potential employer in an interview. \n",
    "1. Yes 3.49% respondent would bring up a mental health issue with a potential employer in an interview.\n",
    "\n",
    "           \n",
    "\n",
    "\n",
    "\n",
    "\n",
    "<img src=\"mental_health_interview.png\">"
   ]
  },
  {
   "cell_type": "markdown",
   "metadata": {},
   "source": [
    "####  phys_health_interview\n",
    "\n",
    "indicates the number of employees who would bring up a physical health issue  with a potential employer in an interview. It contains three unique values and no missing values the survey shows that:\n",
    "1. Maybe 44.24% respondent and value count 557\n",
    "1. No 39.71% respondent and value count 500\n",
    "1. Yes 16.04% respondent and value count 202\n",
    "\n",
    "           \n",
    "\n",
    "\n",
    "\n",
    "\n",
    "<img src=\"phys_health_interview.png\">"
   ]
  },
  {
   "cell_type": "markdown",
   "metadata": {},
   "source": [
    "####  mental_vs_physical\n",
    "\n",
    "indicates the number of employers who feel that their employer takes mental health as seriously as physical health. It contains three unique values and no missing values the survey shows that:\n",
    "1. Don't know 45.75% respondent are not sure if their employer takes mental health as seriously as physical health. \n",
    "1. Yes 27.24% respondent are sure employer takes mental health as seriously as physical health. \n",
    "1. No 27.01% respondent employee does not take mental health as seriously as physical health.\n",
    "\n",
    "           \n",
    "\n",
    "\n",
    "\n",
    "\n",
    "\n",
    "<img src=\"mental_vs_physical.png\">"
   ]
  },
  {
   "cell_type": "markdown",
   "metadata": {},
   "source": [
    "####  obs_consequence\n",
    "\n",
    "indicates if an employees has heard of or observed negative consequences for coworkers with mental health conditions in your workplace. It contains 2 unique values and no missing values the survey shows that:\n",
    "1. No 85.39% respondent and value count 1075\n",
    "1. Yes 14.62% respondent and value count 184\n",
    "\n",
    "           \n",
    "\n",
    "\n",
    "\n",
    "<img src=\"obs_consequence.png\">"
   ]
  },
  {
   "cell_type": "code",
   "execution_count": null,
   "metadata": {},
   "outputs": [],
   "source": []
  }
 ],
 "metadata": {
  "kernelspec": {
   "display_name": "Python 3",
   "language": "python",
   "name": "python3"
  },
  "language_info": {
   "codemirror_mode": {
    "name": "ipython",
    "version": 3
   },
   "file_extension": ".py",
   "mimetype": "text/x-python",
   "name": "python",
   "nbconvert_exporter": "python",
   "pygments_lexer": "ipython3",
   "version": "3.7.6"
  }
 },
 "nbformat": 4,
 "nbformat_minor": 4
}
